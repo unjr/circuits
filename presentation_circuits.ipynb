{
 "cells": [
  {
   "cell_type": "markdown",
   "metadata": {},
   "source": [
    "# Calculs d'impédances et de fonctions de transfert de circuits électroniques"
   ]
  },
  {
   "cell_type": "markdown",
   "metadata": {},
   "source": [
    "## Premier cas : circuits bipolaires"
   ]
  },
  {
   "cell_type": "markdown",
   "metadata": {},
   "source": [
    "Comment calculer l'impédance de ce circuit ?"
   ]
  },
  {
   "attachments": {
    "circuit_bipolaire.png": {
     "image/png": "[encoded data removed]"
    }
   },
   "cell_type": "markdown",
   "metadata": {},
   "source": [
    "![circuit_bipolaire.png](attachment:circuit_bipolaire.png)"
   ]
  },
  {
   "cell_type": "markdown",
   "metadata": {},
   "source": [
    "On distingue la description du circuit et le calcul récursif de l'impédance équivalente."
   ]
  },
  {
   "cell_type": "code",
   "execution_count": null,
   "metadata": {},
   "outputs": [],
   "source": [
    "import sympy as sp"
   ]
  },
  {
   "cell_type": "markdown",
   "metadata": {},
   "source": [
    "### Description du circuit"
   ]
  },
  {
   "cell_type": "markdown",
   "metadata": {},
   "source": [
    "Trois composants : résistance, capacitance, inductance."
   ]
  },
  {
   "cell_type": "code",
   "execution_count": null,
   "metadata": {},
   "outputs": [],
   "source": [
    "from circuits_bipolaires import Resistance, Capacite, Inductance"
   ]
  },
  {
   "cell_type": "code",
   "execution_count": null,
   "metadata": {},
   "outputs": [],
   "source": [
    "R1 = Resistance('R_1')\n",
    "R1.trace()"
   ]
  },
  {
   "cell_type": "code",
   "execution_count": null,
   "metadata": {},
   "outputs": [],
   "source": [
    "C1 = Capacite('C_1')\n",
    "C1.trace()"
   ]
  },
  {
   "cell_type": "code",
   "execution_count": null,
   "metadata": {},
   "outputs": [],
   "source": [
    "L1 = Inductance('L_1')\n",
    "L1.trace()"
   ]
  },
  {
   "cell_type": "markdown",
   "metadata": {},
   "source": [
    "Circuit en série ou en parallèle ?"
   ]
  },
  {
   "cell_type": "code",
   "execution_count": null,
   "metadata": {},
   "outputs": [],
   "source": [
    "from circuits_bipolaires import Serie, Parallele"
   ]
  },
  {
   "cell_type": "code",
   "execution_count": null,
   "metadata": {},
   "outputs": [],
   "source": [
    "circuit1 = R1 + C1\n",
    "circuit1.trace()"
   ]
  },
  {
   "cell_type": "code",
   "execution_count": null,
   "metadata": {},
   "outputs": [],
   "source": [
    "circuit2 = R1 | L1\n",
    "circuit2.trace()"
   ]
  },
  {
   "cell_type": "markdown",
   "metadata": {},
   "source": [
    "Calcul de l'impédance équivalente."
   ]
  },
  {
   "cell_type": "code",
   "execution_count": null,
   "metadata": {},
   "outputs": [],
   "source": [
    "omega = sp.Symbol('omega')\n",
    "circuit1.get_impedance(omega)"
   ]
  },
  {
   "cell_type": "code",
   "execution_count": null,
   "metadata": {},
   "outputs": [],
   "source": [
    "circuit2.get_impedance(omega)"
   ]
  },
  {
   "cell_type": "markdown",
   "metadata": {},
   "source": [
    "Retour sur le circuit étudié."
   ]
  },
  {
   "cell_type": "code",
   "execution_count": null,
   "metadata": {},
   "outputs": [],
   "source": [
    "C2 = Capacite(sp.Symbol('C_2')); R2 = Resistance(sp.Symbol('R_2'));"
   ]
  },
  {
   "cell_type": "code",
   "execution_count": null,
   "metadata": {},
   "outputs": [],
   "source": [
    "circuit3 = ((R1+(C1|L1))|(C2)) + R2"
   ]
  },
  {
   "cell_type": "code",
   "execution_count": null,
   "metadata": {},
   "outputs": [],
   "source": [
    "circuit3.trace()"
   ]
  },
  {
   "cell_type": "code",
   "execution_count": null,
   "metadata": {},
   "outputs": [],
   "source": [
    "Z3 = circuit3.get_impedance(omega)\n",
    "Z3"
   ]
  },
  {
   "cell_type": "markdown",
   "metadata": {},
   "source": [
    "Application numérique:"
   ]
  },
  {
   "cell_type": "code",
   "execution_count": null,
   "metadata": {},
   "outputs": [],
   "source": [
    "import numpy as np\n",
    "\n",
    "R1 = Resistance(10); R2 = Resistance(5); C1 = Capacite(1e-6); C2 = Capacite(1e-6); L1 = Inductance(1e-3);\n",
    "f = 10; omega = 2*np.pi*f;"
   ]
  },
  {
   "cell_type": "code",
   "execution_count": null,
   "metadata": {},
   "outputs": [],
   "source": [
    "Z3_num = circuit3.get_impedance(omega)\n",
    "Z3_num"
   ]
  },
  {
   "cell_type": "markdown",
   "metadata": {},
   "source": [
    "## Deuxième cas : circuits avec des tensions imposées"
   ]
  },
  {
   "cell_type": "markdown",
   "metadata": {},
   "source": [
    "Certains circuits ne sont pas bipolaires. Exemple. Nouvelle façon de le représenter."
   ]
  },
  {
   "cell_type": "markdown",
   "metadata": {},
   "source": [
    "Définir les noeuds et les tensions imposées ou inconnues"
   ]
  },
  {
   "cell_type": "code",
   "execution_count": 3,
   "metadata": {},
   "outputs": [],
   "source": [
    "import sympy as sp"
   ]
  },
  {
   "cell_type": "code",
   "execution_count": 4,
   "metadata": {},
   "outputs": [],
   "source": [
    "from circuits_transfert import Resistance, Capacite, Inductance, Noeud, Circuit"
   ]
  },
  {
   "cell_type": "code",
   "execution_count": null,
   "metadata": {},
   "outputs": [],
   "source": [
    "E = sp.Symbol('E',real=True); S = sp.Symbol('S',real=True)\n",
    "noeud1 = Noeud(E, alim=True);\n",
    "noeud2 = Noeud()\n",
    "noeud3 = Noeud(S)\n",
    "noeud4 = Noeud(0, alim=True)"
   ]
  },
  {
   "cell_type": "markdown",
   "metadata": {},
   "source": [
    "Définir les composants"
   ]
  },
  {
   "cell_type": "code",
   "execution_count": null,
   "metadata": {},
   "outputs": [],
   "source": [
    "R1 = Resistance(sp.Symbol('R_1')); R1.connect(noeud1, noeud2)\n",
    "R2 = Resistance(sp.Symbol('R_2')); R2.connect(noeud2, noeud3)\n",
    "R3 = Resistance(sp.Symbol('R_3')); R3.connect(noeud3, noeud4)\n",
    "C1 = Capacite(sp.Symbol('C_1')); C1.connect(noeud2, noeud3)"
   ]
  },
  {
   "cell_type": "markdown",
   "metadata": {},
   "source": [
    "Un circuit est défini par la donnée des noeuds et des composants"
   ]
  },
  {
   "cell_type": "code",
   "execution_count": null,
   "metadata": {},
   "outputs": [],
   "source": [
    "circuit = Circuit([noeud1,noeud2,noeud3,noeud4],[R1,R2,R3,C1])"
   ]
  },
  {
   "cell_type": "markdown",
   "metadata": {},
   "source": [
    "Montrer les équations à chaque noeud"
   ]
  },
  {
   "cell_type": "markdown",
   "metadata": {},
   "source": [
    "Une méthode permet de calculer la valeur de la tension S en fonction de E (fonction de transfert)"
   ]
  },
  {
   "cell_type": "code",
   "execution_count": null,
   "metadata": {},
   "outputs": [],
   "source": [
    "solutions = circuit.solve(S)\n",
    "solutions"
   ]
  },
  {
   "cell_type": "markdown",
   "metadata": {},
   "source": [
    "Diagramme de Bode . Exemple sur le filtre de chebychev ou butterworth"
   ]
  },
  {
   "attachments": {
    "LowPass3poleICauer.png": {
     "image/png": "[encoded data removed]"
    }
   },
   "cell_type": "markdown",
   "metadata": {},
   "source": [
    "![LowPass3poleICauer.png](attachment:LowPass3poleICauer.png)"
   ]
  },
  {
   "cell_type": "code",
   "execution_count": 5,
   "metadata": {},
   "outputs": [],
   "source": [
    "L1 = Inductance('L_1'); L3 = Inductance('L_3'); C2 = Capacite('C_2'); R4 = Resistance('R_4')\n",
    "Vin = sp.Symbol('V_{in}',real=True); Vout = sp.Symbol('V_{out}',real=True)"
   ]
  },
  {
   "cell_type": "markdown",
   "metadata": {},
   "source": [
    "Définir les noeuds :"
   ]
  },
  {
   "cell_type": "code",
   "execution_count": 6,
   "metadata": {},
   "outputs": [],
   "source": [
    "noeud1 = Noeud(Vin, alim=True);\n",
    "noeud2 = Noeud()\n",
    "noeud3 = Noeud(Vout)\n",
    "noeud4 = Noeud(0, alim=True)"
   ]
  },
  {
   "cell_type": "markdown",
   "metadata": {},
   "source": [
    "Définir les composants :"
   ]
  },
  {
   "cell_type": "code",
   "execution_count": 8,
   "metadata": {},
   "outputs": [],
   "source": [
    "L1 = Inductance(sp.Symbol('L_1')); L1.connect(noeud1, noeud2)\n",
    "L3 = Inductance(sp.Symbol('L_3')); L3.connect(noeud2, noeud3)\n",
    "R4 = Resistance(sp.Symbol('R_4')); R4.connect(noeud3, noeud4)\n",
    "C2 = Capacite(sp.Symbol('C_2')); C2.connect(noeud2, noeud4)"
   ]
  },
  {
   "cell_type": "code",
   "execution_count": 10,
   "metadata": {},
   "outputs": [],
   "source": [
    "circuit = Circuit([noeud1,noeud2,noeud3,noeud4],[L1,L3,R4,C2])"
   ]
  },
  {
   "cell_type": "code",
   "execution_count": 11,
   "metadata": {},
   "outputs": [
    {
     "data": {
      "image/png": "[encoded data removed]",
      "text/latex": [
       "$$- \\frac{L_{3} R_{4} V_{in}}{L_{1} R_{4} - i \\left(L_{3} \\omega - i R_{4}\\right) \\left(- C_{2} L_{1} L_{3} \\omega^{2} + L_{1} + L_{3}\\right)}$$"
      ],
      "text/plain": [
       "                  -L₃⋅R₄⋅V_{in}                  \n",
       "─────────────────────────────────────────────────\n",
       "                        ⎛            2          ⎞\n",
       "L₁⋅R₄ - ⅈ⋅(L₃⋅ω - ⅈ⋅R₄)⋅⎝- C₂⋅L₁⋅L₃⋅ω  + L₁ + L₃⎠"
      ]
     },
     "execution_count": 11,
     "metadata": {},
     "output_type": "execute_result"
    }
   ],
   "source": [
    "solutions = circuit.solve(Vout)\n",
    "solutions"
   ]
  },
  {
   "cell_type": "code",
   "execution_count": null,
   "metadata": {},
   "outputs": [],
   "source": []
  }
 ],
 "metadata": {
  "kernelspec": {
   "display_name": "Python 3",
   "language": "python",
   "name": "python3"
  },
  "language_info": {
   "codemirror_mode": {
    "name": "ipython",
    "version": 3
   },
   "file_extension": ".py",
   "mimetype": "text/x-python",
   "name": "python",
   "nbconvert_exporter": "python",
   "pygments_lexer": "ipython3",
   "version": "3.6.5"
  }
 },
 "nbformat": 4,
 "nbformat_minor": 2
}
